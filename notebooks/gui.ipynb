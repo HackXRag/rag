{
 "cells": [
  {
   "cell_type": "code",
   "execution_count": null,
   "metadata": {},
   "outputs": [],
   "source": [
    "# accept user input\n",
    "# compute the embedding compute_embedding(text)\n",
    "# query the vector database retreive_text\n",
    "# retreive the text chunks\n",
    "# imped the chunk into the prompt\n",
    "# prompt the LLM"
   ]
  },
  {
   "cell_type": "code",
   "execution_count": null,
   "metadata": {},
   "outputs": [],
   "source": [
    "# accept user input\n",
    "prompt = '''Can you describe five tumor cell lines that could be used to investigate \n",
    "colon cancer?'''"
   ]
  },
  {
   "cell_type": "code",
   "execution_count": null,
   "metadata": {},
   "outputs": [],
   "source": [
    "\n",
    "from embed import embed\n",
    "\n",
    "for n in range(1, 1000):\n",
    "    print(len(prompt))\n",
    "    responses = embed([prompt])\n",
    "    prompt = prompt+prompt\n"
   ]
  },
  {
   "cell_type": "code",
   "execution_count": null,
   "metadata": {},
   "outputs": [],
   "source": [
    "print(responses)\n"
   ]
  }
 ],
 "metadata": {
  "kernelspec": {
   "display_name": "Python 3 (ipykernel)",
   "language": "python",
   "name": "python3"
  },
  "language_info": {
   "codemirror_mode": {
    "name": "ipython",
    "version": 3
   },
   "file_extension": ".py",
   "mimetype": "text/x-python",
   "name": "python",
   "nbconvert_exporter": "python",
   "pygments_lexer": "ipython3",
   "version": "3.9.19"
  }
 },
 "nbformat": 4,
 "nbformat_minor": 4
}
