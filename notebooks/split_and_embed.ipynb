{
 "cells": [
  {
   "cell_type": "code",
   "execution_count": 3,
   "id": "2303c857-030f-4d97-9437-1edd8bba237f",
   "metadata": {},
   "outputs": [],
   "source": [
    "from langchain_openai.embeddings import OpenAIEmbeddings\n",
    "from openai import OpenAI\n",
    "from langchain_experimental.text_splitter import SemanticChunker"
   ]
  },
  {
   "cell_type": "code",
   "execution_count": 5,
   "id": "f0a88a5a-9773-42a7-8cec-416c1b55d43c",
   "metadata": {},
   "outputs": [
    {
     "name": "stdout",
     "output_type": "stream",
     "text": [
      "using model llama31-405b-fp8\n"
     ]
    }
   ],
   "source": [
    "openai_api_key = \"cmsc-35360\"\n",
    "openai_api_base = \"http://rbh101.cels.anl.gov:9999/v1\"\n",
    "client = OpenAI(\n",
    "        api_key=openai_api_key,\n",
    "        base_url=openai_api_base,\n",
    ")\n",
    "models = client.models.list()\n",
    "model = models.data[0].id\n",
    "print(f'using model {model}')\n"
   ]
  },
  {
   "cell_type": "code",
   "execution_count": 6,
   "id": "772b76c2-0065-4eea-bf0b-feeed9ea50f3",
   "metadata": {},
   "outputs": [],
   "source": [
    "embeddings = OpenAIEmbeddings(model=model,\n",
    "                                  api_key=openai_api_key,\n",
    "                                  base_url=openai_api_base,\n",
    "                                  # encoding_format=\"float\"\n",
    "                                  )\n",
    "text_splitter = SemanticChunker(embeddings)\n"
   ]
  },
  {
   "cell_type": "code",
   "execution_count": null,
   "id": "1b3cc6d8-44ec-4a31-a7d3-6f1204c49833",
   "metadata": {},
   "outputs": [],
   "source": [
    "# This is a paper that we can split up.\n",
    "fname = 'cancer_papers/10766391.txt'\n",
    "with open(fname) as f:\n",
    "    paper = f.read()\n",
    "# print(paper)"
   ]
  },
  {
   "cell_type": "code",
   "execution_count": null,
   "id": "36e5327e",
   "metadata": {
    "scrolled": true
   },
   "outputs": [],
   "source": [
    "from langchain_openai.embeddings import OpenAIEmbeddings\n",
    "embeddings = OpenAIEmbeddings(model=model,\n",
    "                                  api_key=openai_api_key,\n",
    "                                  base_url=openai_api_base,\n",
    "                                  # encoding_format=\"float\"\n",
    "                                  )"
   ]
  },
  {
   "cell_type": "code",
   "execution_count": null,
   "id": "cde11bc8-392f-4efb-bb1e-8fb9ea9732c1",
   "metadata": {},
   "outputs": [],
   "source": [
    "# 1. Create the text splitter\n",
    "text_splitter = SemanticChunker(embeddings)\n",
    "\n",
    "# 2. Split the text\n",
    "docs = text_splitter.create_documents([paper])\n",
    "print (len(docs))\n",
    "print (docs)"
   ]
  },
  {
   "cell_type": "code",
   "execution_count": null,
   "id": "95a0f9c1-21d6-4af2-8c02-5d08329f786e",
   "metadata": {},
   "outputs": [],
   "source": [
    "for n in range(0, len(docs) - 1):\n",
    "    query_result = embeddings.embed_query(docs[n].page_content)\n",
    "    print (f'chunk len {len(docs[n].page_content)}\\tembedding len {len(query_result)}')\n",
    "    # print (query_result)"
   ]
  },
  {
   "cell_type": "code",
   "execution_count": null,
   "id": "f407be2e-8041-4cee-a33a-75ca1ff03205",
   "metadata": {},
   "outputs": [],
   "source": [
    "print(query_result)"
   ]
  },
  {
   "cell_type": "code",
   "execution_count": null,
   "id": "3b58c46e",
   "metadata": {},
   "outputs": [],
   "source": [
    "# This generates the embeddings using the openai interface.\n",
    "#query_result = client.embeddings.create(\n",
    "#        input=[prompt],\n",
    "#        model=model,\n",
    "#        encoding_format=\"float\",\n",
    "#)\n",
    "#print(query_result)"
   ]
  }
 ],
 "metadata": {
  "kernelspec": {
   "display_name": "Python 3 (ipykernel)",
   "language": "python",
   "name": "python3"
  },
  "language_info": {
   "codemirror_mode": {
    "name": "ipython",
    "version": 3
   },
   "file_extension": ".py",
   "mimetype": "text/x-python",
   "name": "python",
   "nbconvert_exporter": "python",
   "pygments_lexer": "ipython3",
   "version": "3.12.5"
  }
 },
 "nbformat": 4,
 "nbformat_minor": 5
}
